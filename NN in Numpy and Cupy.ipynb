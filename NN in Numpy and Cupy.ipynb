{
 "cells": [
  {
   "cell_type": "markdown",
   "metadata": {},
   "source": [
    "# Nueral Networks in Python/Numpy/Cupy"
   ]
  },
  {
   "cell_type": "markdown",
   "metadata": {},
   "source": [
    "I had a few goals for this project.  The main goal were to gain better intuition for neural networks by building one only using python and numpy.  A secondary goal was to gain better understanding of Object Oriented Programming by building a NN OOP style.  Lastly, I wanted to explore GPU acceleration by using Cupy (essentially a gpu accelearted version of Numpy)."
   ]
  },
  {
   "cell_type": "markdown",
   "metadata": {},
   "source": [
    "### Imports"
   ]
  },
  {
   "cell_type": "code",
   "execution_count": 1,
   "metadata": {},
   "outputs": [],
   "source": [
    "import time\n",
    "import numpy as np\n",
    "import h5py\n",
    "import matplotlib.pyplot as plt\n",
    "import scipy\n",
    "from PIL import Image\n",
    "from scipy import ndimage"
   ]
  },
  {
   "cell_type": "markdown",
   "metadata": {},
   "source": [
    "### Helper function to load data"
   ]
  },
  {
   "cell_type": "code",
   "execution_count": 2,
   "metadata": {},
   "outputs": [],
   "source": [
    "def load_dataset():\n",
    "    train_dataset = h5py.File('train_catvnoncat.h5', \"r\")\n",
    "    train_set_x_orig = np.array(train_dataset[\"train_set_x\"][:]) #train set features\n",
    "    train_set_y_orig = np.array(train_dataset[\"train_set_y\"][:]) #train set labels\n",
    "\n",
    "    test_dataset = h5py.File('test_catvnoncat.h5', \"r\")\n",
    "    test_set_x_orig = np.array(test_dataset[\"test_set_x\"][:]) #test set features\n",
    "    test_set_y_orig = np.array(test_dataset[\"test_set_y\"][:]) #test set labels\n",
    "\n",
    "    classes = np.array(test_dataset[\"list_classes\"][:]) #list of classes\n",
    "    \n",
    "    train_set_y_orig = train_set_y_orig.reshape((1, train_set_y_orig.shape[0]))\n",
    "    test_set_y_orig = test_set_y_orig.reshape((1, test_set_y_orig.shape[0]))\n",
    "    \n",
    "    return train_set_x_orig, train_set_y_orig, test_set_x_orig, test_set_y_orig, classes"
   ]
  },
  {
   "cell_type": "code",
   "execution_count": 3,
   "metadata": {},
   "outputs": [],
   "source": [
    "train_x_orig, train_y, test_x_orig, test_y, classes = load_dataset()"
   ]
  },
  {
   "cell_type": "code",
   "execution_count": 4,
   "metadata": {},
   "outputs": [
    {
     "name": "stdout",
     "output_type": "stream",
     "text": [
      "y = 1. It's a cat picture.\n"
     ]
    },
    {
     "data": {
      "image/png": "[encoded data removed]",
      "text/plain": [
       "<Figure size 432x288 with 1 Axes>"
      ]
     },
     "metadata": {
      "needs_background": "light"
     },
     "output_type": "display_data"
    }
   ],
   "source": [
    "# Example of a picture\n",
    "index = 2\n",
    "plt.imshow(train_x_orig[index])\n",
    "print (\"y = \" + str(train_y[0,index]) + \". It's a \" + classes[train_y[0,index]].decode(\"utf-8\") +  \" picture.\")"
   ]
  },
  {
   "cell_type": "code",
   "execution_count": 5,
   "metadata": {},
   "outputs": [
    {
     "name": "stdout",
     "output_type": "stream",
     "text": [
      "Number of training examples: 209\n",
      "Number of testing examples: 50\n",
      "Each image is of size: (64, 64, 3)\n",
      "train_x_orig shape: (209, 64, 64, 3)\n",
      "train_y shape: (1, 209)\n",
      "test_x_orig shape: (50, 64, 64, 3)\n",
      "test_y shape: (1, 50)\n"
     ]
    }
   ],
   "source": [
    "# Explore your dataset \n",
    "n_train = train_x_orig.shape[0]\n",
    "num_px = train_x_orig.shape[1]\n",
    "n_test = test_x_orig.shape[0]\n",
    "\n",
    "print (\"Number of training examples: \" + str(n_train))\n",
    "print (\"Number of testing examples: \" + str(n_test))\n",
    "print (\"Each image is of size: (\" + str(num_px) + \", \" + str(num_px) + \", 3)\")\n",
    "print (\"train_x_orig shape: \" + str(train_x_orig.shape))\n",
    "print (\"train_y shape: \" + str(train_y.shape))\n",
    "print (\"test_x_orig shape: \" + str(test_x_orig.shape))\n",
    "print (\"test_y shape: \" + str(test_y.shape))"
   ]
  },
  {
   "cell_type": "code",
   "execution_count": 6,
   "metadata": {},
   "outputs": [
    {
     "name": "stdout",
     "output_type": "stream",
     "text": [
      "train_x's shape: (12288, 209)\n",
      "test_x's shape: (12288, 50)\n",
      "0.12156862745098039\n"
     ]
    }
   ],
   "source": [
    "# Reshape the training and test examples \n",
    "train_x_flatten = train_x_orig.reshape(train_x_orig.shape[0], -1).T   # The \"-1\" makes reshape flatten the remaining dimensions\n",
    "test_x_flatten = test_x_orig.reshape(test_x_orig.shape[0], -1).T\n",
    "\n",
    "# Standardize data to have feature values between 0 and 1.\n",
    "train_x = train_x_flatten/255.\n",
    "test_x = test_x_flatten/255.\n",
    "input_features = train_x.shape[0]\n",
    "\n",
    "\n",
    "print (\"train_x's shape: \" + str(train_x.shape))\n",
    "print (\"test_x's shape: \" + str(test_x.shape))\n",
    "print(train_x[1][0])"
   ]
  },
  {
   "cell_type": "code",
   "execution_count": 10,
   "metadata": {},
   "outputs": [],
   "source": [
    "np.random.seed(1)\n",
    "class Layers_Dense:\n",
    "    def __init__(self, x_features, n_neurons,num_examples,init='xavier',learning_rate=0.001):\n",
    "        self.learning_rate=learning_rate\n",
    "        self.m = num_examples\n",
    "        if init == 'random':\n",
    "            self.weights = np.random.randn(x_features,n_neurons) * 0.010         \n",
    "        elif init == 'he':\n",
    "            self.weights = np.random.randn(x_features,n_neurons)*np.sqrt(2./x_features)\n",
    "        elif init == 'xavier':\n",
    "            self.weights = np.random.randn(x_features,n_neurons)*np.sqrt(1./x_features)\n",
    "        self.biases = np.zeros((n_neurons,1))\n",
    "    def forward(self,x):\n",
    "        self.output = np.dot(self.weights.T,x) + self.biases\n",
    "        self.A_prev = x #problem here need the activation\n",
    "    def backward(self,dZ):\n",
    "        self.dW = (1/self.m)*(np.dot(dZ,self.A_prev.T))\n",
    "        self.db = np.sum(dZ,axis=1,keepdims=True)/self.m\n",
    "        self.dA = np.dot(self.weights,dZ)\n",
    "        self.weights = self.weights + self.dW.T *-self.learning_rate\n",
    "        self.biases = self.biases + self.db *-self.learning_rate\n",
    "\n",
    "        \n",
    "class ReLU:\n",
    "    def forward(self, x):\n",
    "        self.output = np.maximum(0,x)\n",
    "        self.x = x\n",
    "    def backward(self,dA):\n",
    "        dZ = np.array(dA, copy=True)\n",
    "        dZ[self.x <= 0] = 0\n",
    "        self.dZ = dZ\n",
    "        assert (dZ.shape == self.x.shape)\n",
    "               \n",
    "class Sigmoid:\n",
    "    def forward(self, z):\n",
    "        self.output = 1/(1+np.exp(-z))\n",
    "    def backward(self):\n",
    "        derivative = self.output * (1 - self.output)\n",
    "        self.dZ = (self.dA_last * derivative)\n",
    "\n",
    "    #sigmoid cross entropy\n",
    "    def compute_cost(self,Y):\n",
    "        m = Y.shape[1]\n",
    "        self.cost = (-1/m)*(np.sum(Y*np.log(self.output)+(1-Y)*np.log(1-self.output)))\n",
    "        self.dA_last = - (np.divide(Y, self.output) - np.divide(1 - Y, 1 - self.output))\n",
    "        \n",
    "class Softmax:\n",
    "    def forward(self,x):\n",
    "        x_exp = np.exp(x)\n",
    "        x_sum = np.sum(x_exp, axis=1, keepdims=True)\n",
    "        self.output = x_exp/x_sum\n",
    "    def derivative(self):\n",
    "        s = self.output.reshape(-1,1)\n",
    "        self.ds = np.diagflats(s) - np.dot(s,s.T)\n",
    "\n",
    "\n",
    "class Flatten:\n",
    "    \"\"\"Reshapes (l,h,d) image into (l*h*d,1)\"\"\" #might need work.  Currently dims first.\n",
    "    def forward(self,x):\n",
    "        self.output = x.reshape(x.shape[0]*x.shape[1]*x.shape[2],1)\n",
    "        \n",
    "class Normalize:\n",
    "    def normalize_rows(self,x):\n",
    "        x_norm = np.linalg.norm(x,axis=1,ord=2,keepdims=True)\n",
    "        self.output = x/x_norm\n",
    "    def normalize_columns(self,x):\n",
    "        x_norm = np.linalg.norm(x,axis=0,ord=2,keepdims=True)\n",
    "        self.output = x/x_norm\n",
    "\n",
    "# Still testing\n",
    "# class Leaky_ReLU:\n",
    "#     def __init__(self,alpha):\n",
    "#         self.leaky_slope = alpha\n",
    "#     def forward(self,x):\n",
    "#         self.x = x\n",
    "#         self.output = np.maximum(self.leaky_slope*x,x)\n",
    "#     def derivative(self):\n",
    "#         d = np.zeros_like(self.x)\n",
    "#         d[self.x<=0]=self.leaky_slope\n",
    "#         d[self.x>0]=1\n",
    "#         self.dl = d\n",
    "        \n",
    "# class Tanh:\n",
    "#     def forward(self, x):\n",
    "#         self.output = np.tanh(x)\n",
    "#     def derivative(self):\n",
    "#         self.dt = (1-(np.square(self.output)))\n",
    "                \n",
    "# class L1_Loss:\n",
    "#     def loss(self,predictions,Y):\n",
    "#         self.loss = np.sum(np.abs(Y - predictions))\n",
    "        \n",
    "# class L2_Loss:\n",
    "#     def loss(self,predictions,Y):\n",
    "#         self.loss = np.sum(np.dot(Y-predictions,Y-predictions))"
   ]
  },
  {
   "cell_type": "code",
   "execution_count": 11,
   "metadata": {},
   "outputs": [],
   "source": [
    "#Instantiate Model\n",
    "layer1 = Layers_Dense(12288,20,n_train,init='he',learning_rate = 0.0075)\n",
    "activation1 = ReLU()\n",
    "layer2 = Layers_Dense(20,7,n_train,init='he',learning_rate = 0.0075)\n",
    "activation2 = ReLU()\n",
    "layer3 = Layers_Dense(7,5,n_train,init='he',learning_rate = 0.0075)\n",
    "activation3 = ReLU()\n",
    "layer4 = Layers_Dense(5,1,n_train,init='xavier',learning_rate = 0.0075)\n",
    "sigmoid = Sigmoid()\n",
    "\n",
    "def predict(x_test):\n",
    "    m = x_test.shape[1]\n",
    "    Y_prediction = np.zeros((1,m))\n",
    "    \n",
    "    layer1.forward(x_test)\n",
    "    activation1.forward(layer1.output)\n",
    "    layer2.forward(activation1.output)\n",
    "    activation2.forward(layer2.output)\n",
    "    layer3.forward(activation2.output)\n",
    "    activation3.forward(layer3.output)\n",
    "    layer4.forward(activation3.output)\n",
    "    sigmoid.forward(layer4.output)\n",
    "    predictions = sigmoid.output\n",
    "    \n",
    "    for i in range(predictions.shape[1]):\n",
    "        if predictions[0][i] <= 0.5:\n",
    "            Y_prediction[0][i] = 0\n",
    "            #print('less than')\n",
    "            #print(A[0][i])\n",
    "        elif predictions[0][i] > 0.5:\n",
    "            Y_prediction[0][i] = 1\n",
    "    \n",
    "    return Y_prediction"
   ]
  },
  {
   "cell_type": "code",
   "execution_count": 17,
   "metadata": {},
   "outputs": [
    {
     "name": "stdout",
     "output_type": "stream",
     "text": [
      "Iteration 0 cost: 0.002730 | Accuracy: 100.0 %\n",
      "Iteration 100 cost: 0.002563 | Accuracy: 100.0 %\n",
      "Iteration 200 cost: 0.002408 | Accuracy: 100.0 %\n",
      "Iteration 300 cost: 0.002273 | Accuracy: 100.0 %\n",
      "Iteration 400 cost: 0.002147 | Accuracy: 100.0 %\n",
      "Iteration 500 cost: 0.002034 | Accuracy: 100.0 %\n",
      "Iteration 600 cost: 0.001931 | Accuracy: 100.0 %\n",
      "Iteration 700 cost: 0.001837 | Accuracy: 100.0 %\n",
      "Iteration 800 cost: 0.001750 | Accuracy: 100.0 %\n",
      "Iteration 900 cost: 0.001671 | Accuracy: 100.0 %\n",
      "Iteration 1000 cost: 0.001597 | Accuracy: 100.0 %\n",
      "Iteration 1100 cost: 0.001530 | Accuracy: 100.0 %\n",
      "Iteration 1200 cost: 0.001466 | Accuracy: 100.0 %\n",
      "Iteration 1300 cost: 0.001408 | Accuracy: 100.0 %\n",
      "Iteration 1400 cost: 0.001353 | Accuracy: 100.0 %\n",
      "Iteration 1500 cost: 0.001302 | Accuracy: 100.0 %\n",
      "Iteration 1600 cost: 0.001254 | Accuracy: 100.0 %\n",
      "Iteration 1700 cost: 0.001210 | Accuracy: 100.0 %\n",
      "Iteration 1800 cost: 0.001168 | Accuracy: 100.0 %\n",
      "Iteration 1900 cost: 0.001128 | Accuracy: 100.0 %\n",
      "Iteration 2000 cost: 0.001091 | Accuracy: 100.0 %\n",
      "Iteration 2100 cost: 0.001056 | Accuracy: 100.0 %\n",
      "Iteration 2200 cost: 0.001023 | Accuracy: 100.0 %\n",
      "Iteration 2300 cost: 0.000992 | Accuracy: 100.0 %\n",
      "Iteration 2400 cost: 0.000962 | Accuracy: 100.0 %\n",
      "Training time: 58.6517 seconds\n"
     ]
    },
    {
     "data": {
      "image/png": "[encoded data removed]",
      "text/plain": [
       "<Figure size 432x288 with 1 Axes>"
      ]
     },
     "metadata": {
      "needs_background": "light"
     },
     "output_type": "display_data"
    },
    {
     "name": "stdout",
     "output_type": "stream",
     "text": [
      "test accuracy: 74.0 %\n"
     ]
    }
   ],
   "source": [
    "np.random.seed(1)\n",
    "costs = []\n",
    "tic = time.perf_counter()\n",
    "for i in range(2500):\n",
    "    layer1.forward(train_x)\n",
    "    activation1.forward(layer1.output)\n",
    "    layer2.forward(activation1.output)\n",
    "    activation2.forward(layer2.output)\n",
    "    layer3.forward(activation2.output)\n",
    "    activation3.forward(layer3.output)\n",
    "    layer4.forward(activation3.output)\n",
    "    sigmoid.forward(layer4.output)\n",
    "    sigmoid.compute_cost(train_y)\n",
    "    sigmoid.backward()\n",
    "    layer4.backward(sigmoid.dZ)\n",
    "    activation3.backward(layer4.dA)\n",
    "    layer3.backward(activation3.dZ)\n",
    "    activation2.backward(layer3.dA)\n",
    "    layer2.backward(activation2.dZ)\n",
    "    activation1.backward(layer2.dA)\n",
    "    layer1.backward(activation1.dZ)\n",
    "    \n",
    "\n",
    "    if i % 100 == 0:\n",
    "        costs.append(sigmoid.cost)\n",
    "        predictions = predict(train_x)\n",
    "        print('Iteration %d cost: %f' %(i, sigmoid.cost),\"|\",\n",
    "             'Accuracy: {} %'.format(100 - np.mean(np.abs(predictions - train_y)) * 100))\n",
    "        \n",
    "toc = time.perf_counter()\n",
    "\n",
    "print(f\"Training time: {toc - tic:0.4f} seconds\")\n",
    "plt.plot(np.squeeze(costs))\n",
    "plt.ylabel('cost')\n",
    "plt.xlabel('iterations (per hundreds)')\n",
    "plt.title(\"Learning rate =\" + str(layer1.learning_rate))\n",
    "plt.show()\n",
    "\n",
    "predictions = predict(test_x)\n",
    "print(\"test accuracy: {} %\".format(100 - np.mean(np.abs(predictions - test_y)) * 100))"
   ]
  },
  {
   "cell_type": "markdown",
   "metadata": {},
   "source": [
    "## Now for the GPU accelerated version using CUPY!"
   ]
  },
  {
   "cell_type": "code",
   "execution_count": 25,
   "metadata": {},
   "outputs": [],
   "source": [
    "import cupy as cp"
   ]
  },
  {
   "cell_type": "code",
   "execution_count": 26,
   "metadata": {},
   "outputs": [],
   "source": [
    "train_x = cp.array(train_x)\n",
    "test_x = cp.array(test_x)\n",
    "test_y = cp.array(test_y)\n",
    "train_y = cp.array(train_y)"
   ]
  },
  {
   "cell_type": "code",
   "execution_count": 14,
   "metadata": {},
   "outputs": [],
   "source": [
    "class Layers_Dense():\n",
    "    def __init__(self, x_features, n_neurons,num_examples,init='xavier',learning_rate=0.001):\n",
    "        cp.random.seed(1)\n",
    "        self.lr = learning_rate\n",
    "        self.m = num_examples\n",
    "        if init == 'random':\n",
    "            self.W = cp.random.randn(x_features,n_neurons) * 0.01         \n",
    "        elif init == 'he':\n",
    "            self.W = cp.random.randn(x_features,n_neurons)*cp.sqrt(2./x_features)\n",
    "        elif init == 'xavier':\n",
    "            self.W = cp.random.randn(x_features,n_neurons)*cp.sqrt(1./x_features)\n",
    "        self.b = cp.zeros((n_neurons, 1))\n",
    "    def forward(self,x):\n",
    "        self.output = cp.dot(self.W.T, x) + self.b\n",
    "        self.A_prev = x #problem here need the activation\n",
    "    def backward(self,dZ):\n",
    "        self.dW = (1 / self.m)*(cp.dot(dZ, self.A_prev.T))\n",
    "        self.db = cp.sum(dZ, axis=1 ,keepdims=True) / self.m\n",
    "        self.dA = cp.dot(self.W, dZ)\n",
    "        self.W = self.W + self.dW.T * -self.lr\n",
    "        self.b = self.b + self.db * -self.lr\n",
    "\n",
    "        \n",
    "class ReLU:\n",
    "    def forward(self, x):\n",
    "        self.output = cp.maximum(0,x)\n",
    "        self.x = x\n",
    "    def backward(self,dA):\n",
    "        dZ = cp.array(dA, copy=True)\n",
    "        dZ[self.x <= 0] = 0\n",
    "        self.dZ = dZ\n",
    "        assert (dZ.shape == self.x.shape)\n",
    "\n",
    "class Sigmoid:\n",
    "    def forward(self, z):\n",
    "        self.output = 1/(1+cp.exp(-z))\n",
    "    def backward(self,Y):\n",
    "        #derivative = self.output * (1 - self.output)\n",
    "        #self.dZ = (self.dA_last * derivative)\n",
    "        self.dZ = self.output - Y\n",
    "\n",
    "    #sigmoid cross entropy\n",
    "    def compute_cost(self,Y):\n",
    "        m = Y.shape[1]\n",
    "        self.cost = (-1/m)*(cp.sum(Y*cp.log(self.output)+(1-Y)*cp.log(1-self.output)))\n",
    "        #self.dA_last = - (cp.divide(Y, self.output) - cp.divide(1 - Y, 1 - self.output))\n"
   ]
  },
  {
   "cell_type": "code",
   "execution_count": 28,
   "metadata": {},
   "outputs": [],
   "source": [
    "#Instantiate Model\n",
    "learning_rate = 0.0065\n",
    "layer1 = Layers_Dense(12288,20,m_train,init='he',learning_rate = learning_rate)\n",
    "activation1 = ReLU()\n",
    "layer2 = Layers_Dense(20,7,m_train,init='he',learning_rate = learning_rate)\n",
    "activation2 = ReLU()\n",
    "layer3 = Layers_Dense(7,5,m_train,init='he',learning_rate = learning_rate)\n",
    "activation3 = ReLU()\n",
    "layer4 = Layers_Dense(5,1,m_train,init='xavier',learning_rate = learning_rate)\n",
    "sigmoid = Sigmoid()\n",
    " \n",
    "def predict(x_test):\n",
    "    m = x_test.shape[1]\n",
    "    Y_prediction = cp.zeros((1,m))\n",
    "    \n",
    "    layer1.forward(x_test)\n",
    "    activation1.forward(layer1.output)\n",
    "    layer2.forward(activation1.output)\n",
    "    activation2.forward(layer2.output)\n",
    "    layer3.forward(activation2.output)\n",
    "    activation3.forward(layer3.output)\n",
    "    layer4.forward(activation3.output)\n",
    "    sigmoid.forward(layer4.output)\n",
    "    predictions = sigmoid.output\n",
    "    \n",
    "    for i in range(predictions.shape[1]):\n",
    "        if predictions[0][i] <= 0.5:\n",
    "            Y_prediction[0][i] = 0\n",
    "        elif predictions[0][i] > 0.5:\n",
    "            Y_prediction[0][i] = 1\n",
    "    \n",
    "    return Y_prediction"
   ]
  },
  {
   "cell_type": "code",
   "execution_count": null,
   "metadata": {
    "scrolled": true
   },
   "outputs": [],
   "source": [
    "tic = time.perf_counter()\n",
    "costs = []\n",
    "for i in range(2500):\n",
    "    layer1.forward(train_x)\n",
    "    activation1.forward(layer1.output)\n",
    "    layer2.forward(activation1.output)\n",
    "    activation2.forward(layer2.output)\n",
    "    layer3.forward(activation2.output)\n",
    "    activation3.forward(layer3.output)\n",
    "    layer4.forward(activation3.output)\n",
    "    sigmoid.forward(layer4.output)\n",
    "    sigmoid.compute_cost(train_y)\n",
    "    sigmoid.backward(train_y)\n",
    "    layer4.backward(sigmoid.dZ)\n",
    "    activation3.backward(layer4.dA)\n",
    "    layer3.backward(activation3.dZ)\n",
    "    activation2.backward(layer3.dA)\n",
    "    layer2.backward(activation2.dZ)\n",
    "    activation1.backward(layer2.dA)\n",
    "    layer1.backward(activation1.dZ)\n",
    "    \n",
    "    if i % 100 == 0:\n",
    "        costs.append(sigmoid.cost)\n",
    "        predictions = predict(train_x)\n",
    "        print('Iteration %d cost: %f' %(i, sigmoid.cost),\"|\",\n",
    "             'Accuracy: {} %'.format(100 - cp.mean(cp.abs(predictions - train_y)) * 100))\n",
    "        \n",
    "toc = time.perf_counter()\n",
    "\n",
    "print(f\"Training time: {toc - tic:0.4f} seconds\")\n",
    "plt.plot(np.squeeze(costs))\n",
    "plt.ylabel('cost')\n",
    "plt.xlabel('iterations (per hundreds)')\n",
    "plt.title(\"Learning rate =\" + str(layer1.lr))\n",
    "plt.show()\n",
    "\n",
    "predictions = predict(test_x)\n",
    "print(\"test accuracy: {} %\".format(100 - cp.mean(cp.abs(predictions - test_y)) * 100))"
   ]
  },
  {
   "cell_type": "code",
   "execution_count": 16,
   "metadata": {
    "collapsed": true
   },
   "outputs": [
    {
     "name": "stdout",
     "output_type": "stream",
     "text": [
      "CATTTTT\n",
      "CATTTTT\n",
      "CATTTTT\n",
      "CATTTTT\n",
      "CATTTTT\n"
     ]
    },
    {
     "ename": "KeyboardInterrupt",
     "evalue": "",
     "output_type": "error",
     "traceback": [
      "\u001b[1;31m---------------------------------------------------------------------------\u001b[0m",
      "\u001b[1;31mKeyboardInterrupt\u001b[0m                         Traceback (most recent call last)",
      "\u001b[1;32m<ipython-input-16-9de16cdcc3fe>\u001b[0m in \u001b[0;36m<module>\u001b[1;34m\u001b[0m\n\u001b[0;32m     11\u001b[0m     \u001b[1;32melse\u001b[0m\u001b[1;33m:\u001b[0m\u001b[1;33m\u001b[0m\u001b[1;33m\u001b[0m\u001b[0m\n\u001b[0;32m     12\u001b[0m         \u001b[0mprint\u001b[0m\u001b[1;33m(\u001b[0m\u001b[1;34m\"me think no cat\"\u001b[0m\u001b[1;33m)\u001b[0m\u001b[1;33m\u001b[0m\u001b[1;33m\u001b[0m\u001b[0m\n\u001b[1;32m---> 13\u001b[1;33m     \u001b[0mtime\u001b[0m\u001b[1;33m.\u001b[0m\u001b[0msleep\u001b[0m\u001b[1;33m(\u001b[0m\u001b[1;36m4\u001b[0m\u001b[1;33m)\u001b[0m\u001b[1;33m\u001b[0m\u001b[1;33m\u001b[0m\u001b[0m\n\u001b[0m\u001b[0;32m     14\u001b[0m     \u001b[0mplt\u001b[0m\u001b[1;33m.\u001b[0m\u001b[0mimshow\u001b[0m\u001b[1;33m(\u001b[0m\u001b[0mtest_x_orig\u001b[0m\u001b[1;33m[\u001b[0m\u001b[0mi\u001b[0m\u001b[1;33m]\u001b[0m\u001b[1;33m)\u001b[0m\u001b[1;33m\u001b[0m\u001b[1;33m\u001b[0m\u001b[0m\n\u001b[0;32m     15\u001b[0m     \u001b[1;31m#print(predictions[0][index])\u001b[0m\u001b[1;33m\u001b[0m\u001b[1;33m\u001b[0m\u001b[1;33m\u001b[0m\u001b[0m\n",
      "\u001b[1;31mKeyboardInterrupt\u001b[0m: "
     ]
    },
    {
     "data": {
      "image/png": "[encoded data removed]",
      "text/plain": [
       "<Figure size 432x288 with 1 Axes>"
      ]
     },
     "metadata": {
      "needs_background": "light"
     },
     "output_type": "display_data"
    }
   ],
   "source": [
    "# Example of a picture\n",
    "#print(test_x_orig.shape)\n",
    "index = 12\n",
    "#plt.imshow(test_x_orig[index])\n",
    "#print (\"y = \" + str(train_y[0,index]) + \". It's a \" + classes[test_y[0,index]].decode(\"utf-8\") +  \" picture.\")\n",
    "\n",
    "for i in range (0,49):\n",
    "    plt.imshow(test_x_orig[i])\n",
    "    if predictions[0][index] == 1.0:\n",
    "        print(\"CATTTTT\")\n",
    "    else:\n",
    "        print(\"me think no cat\")\n",
    "    time.sleep(4)\n",
    "    plt.imshow(test_x_orig[i])git\n",
    "    #print(predictions[0][index])"
   ]
  }
 ],
 "metadata": {
  "kernelspec": {
   "display_name": "Python 3",
   "language": "python",
   "name": "python3"
  },
  "language_info": {
   "codemirror_mode": {
    "name": "ipython",
    "version": 3
   },
   "file_extension": ".py",
   "mimetype": "text/x-python",
   "name": "python",
   "nbconvert_exporter": "python",
   "pygments_lexer": "ipython3",
   "version": "3.7.6"
  }
 },
 "nbformat": 4,
 "nbformat_minor": 4
}
